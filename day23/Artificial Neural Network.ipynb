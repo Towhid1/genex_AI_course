{
 "cells": [
  {
   "cell_type": "markdown",
   "metadata": {},
   "source": [
    "# Artificial Neural Network (ANN)\n",
    "\n",
    ">Artificial neural networks (ANNs), usually simply called neural networks (NNs), are computing systems vaguely inspired by the biological neural networks that constitute animal brains. \n",
    "\n",
    "-Wikipedia\n",
    "\n",
    "Neural Network works like this -\n",
    "<img src='image/ann.gif' width='600'>\n",
    "\n",
    "## History\n",
    "\n",
    "McCulloch and Pitts (1943) opened the subject by creating a computational model for neural networks.\n",
    "\n",
    "<img src=\"image/Picture1.png\" >\n",
    "\n",
    "\n",
    "## Biological Neuron VS ANN\n",
    "\n",
    "<img src=\"image/neuron.png\" width='850'>"
   ]
  },
  {
   "cell_type": "markdown",
   "metadata": {},
   "source": [
    "# Perceptron\n",
    ">Perceptron is a single layer neural network. \n",
    "\n",
    "Perceptron is a linear classifier (binary). Also, it is used in supervised learning. It helps to classify the given input data.\n",
    "\n",
    "<img src='image/perceptron.png' width='550'>\n",
    "\n",
    "As you can see the perceptron consists of 4 parts.\n",
    "- Input values or One input layer\n",
    "- Weights and Bias\n",
    "- Net sum\n",
    "- Activation Function\n",
    "\n",
    "The Neural Networks work the same way as the perceptron. So, if you want to know how neural network works, learn how perceptron works.\n"
   ]
  },
  {
   "cell_type": "markdown",
   "metadata": {},
   "source": [
    "## How it works\n",
    "\n",
    "<img src=\"image/all.png\" width='750'>\n"
   ]
  },
  {
   "cell_type": "code",
   "execution_count": 53,
   "metadata": {},
   "outputs": [],
   "source": [
    "\n",
    "def predict(row, weights):\n",
    "    activation = weights[0]\n",
    "    for i in range(len(row)-1):\n",
    "        activation += weights[i + 1] * row[i]\n",
    "    return 1.0 if activation >= 0.0 else 0.0\n",
    "\n",
    "\n",
    "def train_weights(train, l_rate, n_epoch):\n",
    "    bias = 1\n",
    "    weights = [0.0 for i in range(len(train[0]))]\n",
    "    weights[0] = bias #using weight[0] as bias\n",
    "    \n",
    "    for epoch in range(n_epoch):\n",
    "        sum_error = 0.0\n",
    "        print(f'>epoch={epoch}, lrate={l_rate}, weights={weights}')\n",
    "        \n",
    "        for row in train:\n",
    "            prediction = predict(row, weights)    \n",
    "            # abs error    \n",
    "            error = row[-1] - prediction\n",
    "            sum_error += abs(error)\n",
    "            # bias update\n",
    "            weights[0] = weights[0] + l_rate * error\n",
    "            #weight update\n",
    "            for i in range(len(row)-1):\n",
    "                weights[i + 1] = weights[i + 1] + l_rate * error * row[i] \n",
    "        print(f'epoch: {epoch}, error={sum_error}')\n",
    "    return weights\n"
   ]
  },
  {
   "cell_type": "code",
   "execution_count": 54,
   "metadata": {},
   "outputs": [
    {
     "name": "stdout",
     "output_type": "stream",
     "text": [
      ">epoch=0, lrate=0.1, weights=[1, 0.0, 0.0]\n",
      "epoch: 0, error=3.0\n",
      ">epoch=1, lrate=0.1, weights=[0.9, 0.3458377424000001, -0.16414950850000004]\n",
      "epoch: 1, error=3.0\n",
      ">epoch=2, lrate=0.1, weights=[0.8, 0.6916754848000002, -0.328299017]\n",
      "epoch: 2, error=2.0\n",
      ">epoch=3, lrate=0.1, weights=[0.6000000000000001, 0.2747601058000002, -0.768374749]\n",
      "epoch: 3, error=0.0\n",
      ">epoch=4, lrate=0.1, weights=[0.6000000000000001, 0.2747601058000002, -0.768374749]\n",
      "epoch: 4, error=0.0\n",
      "after training bias and weights:  [0.6000000000000001, 0.2747601058000002, -0.768374749]\n"
     ]
    }
   ],
   "source": [
    "dataset = [[2.7810836,2.550537003,0],\n",
    "    [1.465489372,2.362125076,0],\n",
    "    [3.396561688,4.400293529,0],\n",
    "    [1.38807019,1.850220317,0],\n",
    "    [3.06407232,3.005305973,0],\n",
    "    [7.627531214,2.759262235,1],\n",
    "    [5.332441248,2.088626775,1],\n",
    "    [6.922596716,1.77106367,1],\n",
    "    [8.675418651,-0.242068655,1],\n",
    "    [7.673756466,3.508563011,1]]\n",
    "\n",
    "l_rate = 0.1\n",
    "n_epoch = 5\n",
    "weights = train_weights(dataset, l_rate, n_epoch)\n",
    "print('after training bias and weights: ', weights)"
   ]
  },
  {
   "cell_type": "markdown",
   "metadata": {},
   "source": [
    "# Multilayer Perceptron\n",
    "\n",
    "<img src=\"image/multilayer.png\" width='400'>"
   ]
  },
  {
   "cell_type": "markdown",
   "metadata": {},
   "source": [
    "# FeedForward Neural Networks\n",
    "\n",
    ">A feedforward neural network is an artificial neural network where connections between the nodes do not form a cycle.\n",
    "\n",
    "Training this kind of network requires three steps.\n",
    "\n",
    "1. Forward propagation\n",
    "2. Computing cost\n",
    "3. Backpropagation\n",
    "\n",
    "\n",
    " ## 1. Forward Propagation\n",
    "\n",
    "Let `X` be the input vector to the neural network, so that `a[0] = X`.\n",
    "Now, we need to calculate `a[l]` for every layer `l` in the network.\n",
    "Before calculating the activation, `a[l]`, we will calculate an intermediate value `z[l]`. Each element `k` in `z[l]` is just the sum of bias for the neuron `k` in the layer `l` with the weighted sum of the activation of the previous layer, `l-1`.\n",
    "\n",
    "We can calculate `z[l]` from the following equation:\n",
    "\n",
    "<img src=\"image/e1.png\" width='450'>\n",
    "\n",
    "Now that we have `z[l]`, we can compute `a[l]` easily by applying the activation function `g[l]` element-wise to the vector `z[l]`.\n",
    "\n",
    "<img src=\"image/e2.png\" width='300'>\n",
    "\n",
    "this will go for all layers. We can show it like this. \n",
    "\n",
    "<img src=\"image/g1.png\" width='300'>\n",
    "\n"
   ]
  },
  {
   "cell_type": "code",
   "execution_count": null,
   "metadata": {},
   "outputs": [],
   "source": []
  }
 ],
 "metadata": {
  "kernelspec": {
   "display_name": "Python 3",
   "language": "python",
   "name": "python3"
  },
  "language_info": {
   "codemirror_mode": {
    "name": "ipython",
    "version": 3
   },
   "file_extension": ".py",
   "mimetype": "text/x-python",
   "name": "python",
   "nbconvert_exporter": "python",
   "pygments_lexer": "ipython3",
   "version": "3.7.2"
  }
 },
 "nbformat": 4,
 "nbformat_minor": 4
}
