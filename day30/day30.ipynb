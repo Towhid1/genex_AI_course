{
 "cells": [
  {
   "cell_type": "code",
   "execution_count": 71,
   "metadata": {},
   "outputs": [],
   "source": [
    "import pandas as pd\n",
    "import numpy as np\n",
    "from sklearn.feature_extraction.text import CountVectorizer\n",
    "import warnings\n",
    "warnings.filterwarnings('ignore')"
   ]
  },
  {
   "cell_type": "markdown",
   "metadata": {},
   "source": [
    "## Bag of words"
   ]
  },
  {
   "cell_type": "code",
   "execution_count": 2,
   "metadata": {},
   "outputs": [
    {
     "name": "stdout",
     "output_type": "stream",
     "text": [
      "Suppose. This is our text data :  ['it is a text1', 'it is a text2', 'it is a text3', 'that is a text4 and this is a text5']\n"
     ]
    }
   ],
   "source": [
    "text = ['it is a text1', \n",
    "        'it is a text2', \n",
    "        'it is a text3', \n",
    "        'that is a text4 and this is a text5']\n",
    "print(\"Suppose. This is our text data : \",text)"
   ]
  },
  {
   "cell_type": "code",
   "execution_count": 3,
   "metadata": {},
   "outputs": [
    {
     "name": "stdout",
     "output_type": "stream",
     "text": [
      "Words of Bag-of-words :  ['and', 'is', 'it', 'text1', 'text2', 'text3', 'text4', 'text5', 'that', 'this']\n"
     ]
    }
   ],
   "source": [
    "bow_converter = CountVectorizer()\n",
    "bow_converter.fit(text)\n",
    "words = bow_converter.get_feature_names()\n",
    "print(\"Words of Bag-of-words : \", words)"
   ]
  },
  {
   "cell_type": "code",
   "execution_count": 4,
   "metadata": {},
   "outputs": [
    {
     "name": "stdout",
     "output_type": "stream",
     "text": [
      "[[0 1 1 1 0 0 0 0 0 0]\n",
      " [0 1 1 0 1 0 0 0 0 0]\n",
      " [0 1 1 0 0 1 0 0 0 0]\n",
      " [1 2 0 0 0 0 1 1 1 1]]\n"
     ]
    },
    {
     "data": {
      "text/html": [
       "<div>\n",
       "<style scoped>\n",
       "    .dataframe tbody tr th:only-of-type {\n",
       "        vertical-align: middle;\n",
       "    }\n",
       "\n",
       "    .dataframe tbody tr th {\n",
       "        vertical-align: top;\n",
       "    }\n",
       "\n",
       "    .dataframe thead th {\n",
       "        text-align: right;\n",
       "    }\n",
       "</style>\n",
       "<table border=\"1\" class=\"dataframe\">\n",
       "  <thead>\n",
       "    <tr style=\"text-align: right;\">\n",
       "      <th></th>\n",
       "      <th>and</th>\n",
       "      <th>is</th>\n",
       "      <th>it</th>\n",
       "      <th>text1</th>\n",
       "      <th>text2</th>\n",
       "      <th>text3</th>\n",
       "      <th>text4</th>\n",
       "      <th>text5</th>\n",
       "      <th>that</th>\n",
       "      <th>this</th>\n",
       "    </tr>\n",
       "  </thead>\n",
       "  <tbody>\n",
       "    <tr>\n",
       "      <th>it is a text1</th>\n",
       "      <td>0</td>\n",
       "      <td>1</td>\n",
       "      <td>1</td>\n",
       "      <td>1</td>\n",
       "      <td>0</td>\n",
       "      <td>0</td>\n",
       "      <td>0</td>\n",
       "      <td>0</td>\n",
       "      <td>0</td>\n",
       "      <td>0</td>\n",
       "    </tr>\n",
       "    <tr>\n",
       "      <th>it is a text2</th>\n",
       "      <td>0</td>\n",
       "      <td>1</td>\n",
       "      <td>1</td>\n",
       "      <td>0</td>\n",
       "      <td>1</td>\n",
       "      <td>0</td>\n",
       "      <td>0</td>\n",
       "      <td>0</td>\n",
       "      <td>0</td>\n",
       "      <td>0</td>\n",
       "    </tr>\n",
       "    <tr>\n",
       "      <th>it is a text3</th>\n",
       "      <td>0</td>\n",
       "      <td>1</td>\n",
       "      <td>1</td>\n",
       "      <td>0</td>\n",
       "      <td>0</td>\n",
       "      <td>1</td>\n",
       "      <td>0</td>\n",
       "      <td>0</td>\n",
       "      <td>0</td>\n",
       "      <td>0</td>\n",
       "    </tr>\n",
       "    <tr>\n",
       "      <th>that is a text4 and this is a text5</th>\n",
       "      <td>1</td>\n",
       "      <td>2</td>\n",
       "      <td>0</td>\n",
       "      <td>0</td>\n",
       "      <td>0</td>\n",
       "      <td>0</td>\n",
       "      <td>1</td>\n",
       "      <td>1</td>\n",
       "      <td>1</td>\n",
       "      <td>1</td>\n",
       "    </tr>\n",
       "  </tbody>\n",
       "</table>\n",
       "</div>"
      ],
      "text/plain": [
       "                                     and  is  it  text1  text2  text3  text4  \\\n",
       "it is a text1                          0   1   1      1      0      0      0   \n",
       "it is a text2                          0   1   1      0      1      0      0   \n",
       "it is a text3                          0   1   1      0      0      1      0   \n",
       "that is a text4 and this is a text5    1   2   0      0      0      0      1   \n",
       "\n",
       "                                     text5  that  this  \n",
       "it is a text1                            0     0     0  \n",
       "it is a text2                            0     0     0  \n",
       "it is a text3                            0     0     0  \n",
       "that is a text4 and this is a text5      1     1     1  "
      ]
     },
     "execution_count": 4,
     "metadata": {},
     "output_type": "execute_result"
    }
   ],
   "source": [
    "features = bow_converter.transform(text).toarray()\n",
    "print(features)\n",
    "\n",
    "frequency_matrix = pd.DataFrame(features, index=text, \n",
    "                                columns=bow_converter.get_feature_names())\n",
    "frequency_matrix"
   ]
  },
  {
   "cell_type": "code",
   "execution_count": 5,
   "metadata": {},
   "outputs": [],
   "source": [
    "t = 1/3\n"
   ]
  },
  {
   "cell_type": "markdown",
   "metadata": {},
   "source": [
    "## Bag of N-grams"
   ]
  },
  {
   "cell_type": "code",
   "execution_count": 6,
   "metadata": {},
   "outputs": [
    {
     "name": "stdout",
     "output_type": "stream",
     "text": [
      "Suppose. This is our text data :  ['it is a text1', 'it is a text2', 'it is a text3', 'that is a text4 and this is a text5']\n"
     ]
    }
   ],
   "source": [
    "text = ['it is a text1', \n",
    "        'it is a text2', \n",
    "        'it is a text3', \n",
    "        'that is a text4 and this is a text5']\n",
    "print(\"Suppose. This is our text data : \",text)"
   ]
  },
  {
   "cell_type": "code",
   "execution_count": 7,
   "metadata": {},
   "outputs": [
    {
     "name": "stdout",
     "output_type": "stream",
     "text": [
      "Words of Bag-of-words :  ['and this', 'is text1', 'is text2', 'is text3', 'is text4', 'is text5', 'it is', 'text4 and', 'that is', 'this is']\n"
     ]
    }
   ],
   "source": [
    "bigram_converter = CountVectorizer(ngram_range=(2,2))\n",
    "bigram_converter.fit(text)\n",
    "bigrams = bigram_converter.get_feature_names()\n",
    "print(\"Words of Bag-of-words : \",bigrams)"
   ]
  },
  {
   "cell_type": "code",
   "execution_count": 8,
   "metadata": {},
   "outputs": [
    {
     "data": {
      "text/html": [
       "<div>\n",
       "<style scoped>\n",
       "    .dataframe tbody tr th:only-of-type {\n",
       "        vertical-align: middle;\n",
       "    }\n",
       "\n",
       "    .dataframe tbody tr th {\n",
       "        vertical-align: top;\n",
       "    }\n",
       "\n",
       "    .dataframe thead th {\n",
       "        text-align: right;\n",
       "    }\n",
       "</style>\n",
       "<table border=\"1\" class=\"dataframe\">\n",
       "  <thead>\n",
       "    <tr style=\"text-align: right;\">\n",
       "      <th></th>\n",
       "      <th>and this</th>\n",
       "      <th>is text1</th>\n",
       "      <th>is text2</th>\n",
       "      <th>is text3</th>\n",
       "      <th>is text4</th>\n",
       "      <th>is text5</th>\n",
       "      <th>it is</th>\n",
       "      <th>text4 and</th>\n",
       "      <th>that is</th>\n",
       "      <th>this is</th>\n",
       "    </tr>\n",
       "  </thead>\n",
       "  <tbody>\n",
       "    <tr>\n",
       "      <th>it is a text1</th>\n",
       "      <td>0</td>\n",
       "      <td>1</td>\n",
       "      <td>0</td>\n",
       "      <td>0</td>\n",
       "      <td>0</td>\n",
       "      <td>0</td>\n",
       "      <td>1</td>\n",
       "      <td>0</td>\n",
       "      <td>0</td>\n",
       "      <td>0</td>\n",
       "    </tr>\n",
       "    <tr>\n",
       "      <th>it is a text2</th>\n",
       "      <td>0</td>\n",
       "      <td>0</td>\n",
       "      <td>1</td>\n",
       "      <td>0</td>\n",
       "      <td>0</td>\n",
       "      <td>0</td>\n",
       "      <td>1</td>\n",
       "      <td>0</td>\n",
       "      <td>0</td>\n",
       "      <td>0</td>\n",
       "    </tr>\n",
       "    <tr>\n",
       "      <th>it is a text3</th>\n",
       "      <td>0</td>\n",
       "      <td>0</td>\n",
       "      <td>0</td>\n",
       "      <td>1</td>\n",
       "      <td>0</td>\n",
       "      <td>0</td>\n",
       "      <td>1</td>\n",
       "      <td>0</td>\n",
       "      <td>0</td>\n",
       "      <td>0</td>\n",
       "    </tr>\n",
       "    <tr>\n",
       "      <th>that is a text4 and this is a text5</th>\n",
       "      <td>1</td>\n",
       "      <td>0</td>\n",
       "      <td>0</td>\n",
       "      <td>0</td>\n",
       "      <td>1</td>\n",
       "      <td>1</td>\n",
       "      <td>0</td>\n",
       "      <td>1</td>\n",
       "      <td>1</td>\n",
       "      <td>1</td>\n",
       "    </tr>\n",
       "  </tbody>\n",
       "</table>\n",
       "</div>"
      ],
      "text/plain": [
       "                                     and this  is text1  is text2  is text3  \\\n",
       "it is a text1                               0         1         0         0   \n",
       "it is a text2                               0         0         1         0   \n",
       "it is a text3                               0         0         0         1   \n",
       "that is a text4 and this is a text5         1         0         0         0   \n",
       "\n",
       "                                     is text4  is text5  it is  text4 and  \\\n",
       "it is a text1                               0         0      1          0   \n",
       "it is a text2                               0         0      1          0   \n",
       "it is a text3                               0         0      1          0   \n",
       "that is a text4 and this is a text5         1         1      0          1   \n",
       "\n",
       "                                     that is  this is  \n",
       "it is a text1                              0        0  \n",
       "it is a text2                              0        0  \n",
       "it is a text3                              0        0  \n",
       "that is a text4 and this is a text5        1        1  "
      ]
     },
     "execution_count": 8,
     "metadata": {},
     "output_type": "execute_result"
    }
   ],
   "source": [
    "features = bigram_converter.transform(text).toarray()\n",
    "frequency_matrix = pd.DataFrame(features, index=text, columns=bigrams)\n",
    "frequency_matrix"
   ]
  },
  {
   "cell_type": "markdown",
   "metadata": {},
   "source": [
    "## Tf-Ids (Term frequency–Inverse document frequency)\n",
    "\n",
    "<img src=\"img/o.png\" width=\"600\">"
   ]
  },
  {
   "cell_type": "code",
   "execution_count": 9,
   "metadata": {},
   "outputs": [
    {
     "data": {
      "text/plain": [
       "['and',\n",
       " 'is',\n",
       " 'it',\n",
       " 'text1',\n",
       " 'text2',\n",
       " 'text3',\n",
       " 'text4',\n",
       " 'text5',\n",
       " 'that',\n",
       " 'this']"
      ]
     },
     "execution_count": 9,
     "metadata": {},
     "output_type": "execute_result"
    }
   ],
   "source": [
    "from sklearn.feature_extraction.text import TfidfVectorizer, TfidfTransformer\n",
    "text = ['it is a text1', \n",
    "        'it is a text2', \n",
    "        'it is a text3', \n",
    "        'that is a text4 and this is a text5']\n",
    "\n",
    "tfidf = TfidfVectorizer()\n",
    "tfidf.fit(text)\n",
    "\n",
    "tf = tfidf.get_feature_names()\n",
    "tf"
   ]
  },
  {
   "cell_type": "code",
   "execution_count": 10,
   "metadata": {},
   "outputs": [
    {
     "data": {
      "text/html": [
       "<div>\n",
       "<style scoped>\n",
       "    .dataframe tbody tr th:only-of-type {\n",
       "        vertical-align: middle;\n",
       "    }\n",
       "\n",
       "    .dataframe tbody tr th {\n",
       "        vertical-align: top;\n",
       "    }\n",
       "\n",
       "    .dataframe thead th {\n",
       "        text-align: right;\n",
       "    }\n",
       "</style>\n",
       "<table border=\"1\" class=\"dataframe\">\n",
       "  <thead>\n",
       "    <tr style=\"text-align: right;\">\n",
       "      <th></th>\n",
       "      <th>and</th>\n",
       "      <th>is</th>\n",
       "      <th>it</th>\n",
       "      <th>text1</th>\n",
       "      <th>text2</th>\n",
       "      <th>text3</th>\n",
       "      <th>text4</th>\n",
       "      <th>text5</th>\n",
       "      <th>that</th>\n",
       "      <th>this</th>\n",
       "    </tr>\n",
       "  </thead>\n",
       "  <tbody>\n",
       "    <tr>\n",
       "      <th>it is a text1</th>\n",
       "      <td>0.000000</td>\n",
       "      <td>0.402642</td>\n",
       "      <td>0.492489</td>\n",
       "      <td>0.771579</td>\n",
       "      <td>0.000000</td>\n",
       "      <td>0.000000</td>\n",
       "      <td>0.000000</td>\n",
       "      <td>0.000000</td>\n",
       "      <td>0.000000</td>\n",
       "      <td>0.000000</td>\n",
       "    </tr>\n",
       "    <tr>\n",
       "      <th>it is a text2</th>\n",
       "      <td>0.000000</td>\n",
       "      <td>0.402642</td>\n",
       "      <td>0.492489</td>\n",
       "      <td>0.000000</td>\n",
       "      <td>0.771579</td>\n",
       "      <td>0.000000</td>\n",
       "      <td>0.000000</td>\n",
       "      <td>0.000000</td>\n",
       "      <td>0.000000</td>\n",
       "      <td>0.000000</td>\n",
       "    </tr>\n",
       "    <tr>\n",
       "      <th>it is a text3</th>\n",
       "      <td>0.000000</td>\n",
       "      <td>0.402642</td>\n",
       "      <td>0.492489</td>\n",
       "      <td>0.000000</td>\n",
       "      <td>0.000000</td>\n",
       "      <td>0.771579</td>\n",
       "      <td>0.000000</td>\n",
       "      <td>0.000000</td>\n",
       "      <td>0.000000</td>\n",
       "      <td>0.000000</td>\n",
       "    </tr>\n",
       "    <tr>\n",
       "      <th>that is a text4 and this is a text5</th>\n",
       "      <td>0.405245</td>\n",
       "      <td>0.422947</td>\n",
       "      <td>0.000000</td>\n",
       "      <td>0.000000</td>\n",
       "      <td>0.000000</td>\n",
       "      <td>0.000000</td>\n",
       "      <td>0.405245</td>\n",
       "      <td>0.405245</td>\n",
       "      <td>0.405245</td>\n",
       "      <td>0.405245</td>\n",
       "    </tr>\n",
       "  </tbody>\n",
       "</table>\n",
       "</div>"
      ],
      "text/plain": [
       "                                          and        is        it     text1  \\\n",
       "it is a text1                        0.000000  0.402642  0.492489  0.771579   \n",
       "it is a text2                        0.000000  0.402642  0.492489  0.000000   \n",
       "it is a text3                        0.000000  0.402642  0.492489  0.000000   \n",
       "that is a text4 and this is a text5  0.405245  0.422947  0.000000  0.000000   \n",
       "\n",
       "                                        text2     text3     text4     text5  \\\n",
       "it is a text1                        0.000000  0.000000  0.000000  0.000000   \n",
       "it is a text2                        0.771579  0.000000  0.000000  0.000000   \n",
       "it is a text3                        0.000000  0.771579  0.000000  0.000000   \n",
       "that is a text4 and this is a text5  0.000000  0.000000  0.405245  0.405245   \n",
       "\n",
       "                                         that      this  \n",
       "it is a text1                        0.000000  0.000000  \n",
       "it is a text2                        0.000000  0.000000  \n",
       "it is a text3                        0.000000  0.000000  \n",
       "that is a text4 and this is a text5  0.405245  0.405245  "
      ]
     },
     "execution_count": 10,
     "metadata": {},
     "output_type": "execute_result"
    }
   ],
   "source": [
    "features = tfidf.transform(text).toarray()\n",
    "frequency_matrix = pd.DataFrame(features, index=text, columns=tf)\n",
    "frequency_matrix"
   ]
  },
  {
   "cell_type": "markdown",
   "metadata": {},
   "source": [
    "## Word2Vec\n",
    "\n",
    "<img src=\"img/w.png\" width=\"550\">"
   ]
  },
  {
   "cell_type": "markdown",
   "metadata": {},
   "source": [
    "## Sentiment Analysis\n",
    "\n",
    "\n",
    "Link : https://drive.google.com/file/d/1dmVsO2BduSwF23yDl8eNlxmB2VBCLAbZ/view?usp=sharing"
   ]
  }
 ],
 "metadata": {
  "kernelspec": {
   "display_name": "Python 3",
   "language": "python",
   "name": "python3"
  },
  "language_info": {
   "codemirror_mode": {
    "name": "ipython",
    "version": 3
   },
   "file_extension": ".py",
   "mimetype": "text/x-python",
   "name": "python",
   "nbconvert_exporter": "python",
   "pygments_lexer": "ipython3",
   "version": "3.7.2"
  }
 },
 "nbformat": 4,
 "nbformat_minor": 4
}
